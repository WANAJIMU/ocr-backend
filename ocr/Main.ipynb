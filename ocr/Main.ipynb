{
 "cells": [
  {
   "cell_type": "markdown",
   "id": "6d15c704",
   "metadata": {},
   "source": [
    "# OCR"
   ]
  },
  {
   "cell_type": "code",
   "execution_count": 2,
   "id": "b02be019",
   "metadata": {},
   "outputs": [],
   "source": [
    "# importing libraries\n",
    "import cv2\n",
    "from PIL import Image\n",
    "import pytesseract"
   ]
  },
  {
   "cell_type": "markdown",
   "id": "7847d45e",
   "metadata": {},
   "source": [
    "## Loading an image into memory\n",
    "* using the pillow library rather than opencv which is a computer vision library, due to its simplicity\n",
    "\n",
    "* Pillow is recommended for simpler tasks such as opening an image, passing it to sthm else, saving ana image, doing some cropping and getting some general sense of what the image looks like"
   ]
  },
  {
   "cell_type": "code",
   "execution_count": 4,
   "id": "4b56c6d2",
   "metadata": {},
   "outputs": [
    {
     "name": "stdout",
     "output_type": "stream",
     "text": [
      "<PIL.JpegImagePlugin.JpegImageFile image mode=RGB size=1754x1240 at 0x136509B10>\n",
      "(1754, 1240)\n"
     ]
    }
   ],
   "source": [
    "# open up an image\n",
    "\n",
    "im_file = 'data/cert1.jpg'\n",
    "im  = Image.open(im_file)\n",
    "\n",
    "print(im)\n",
    "print(im.size)\n"
   ]
  },
  {
   "cell_type": "code",
   "execution_count": 5,
   "id": "9a4ac9dd",
   "metadata": {},
   "outputs": [],
   "source": [
    "# show image\n",
    "im.show()"
   ]
  },
  {
   "cell_type": "code",
   "execution_count": 6,
   "id": "be4d834e",
   "metadata": {},
   "outputs": [],
   "source": [
    "# save image\n",
    "im.save('temp/cert.jpg')"
   ]
  },
  {
   "cell_type": "code",
   "execution_count": null,
   "id": "e7bf6df8",
   "metadata": {},
   "outputs": [],
   "source": []
  }
 ],
 "metadata": {
  "kernelspec": {
   "display_name": "Python 3 (ipykernel)",
   "language": "python",
   "name": "python3"
  },
  "language_info": {
   "codemirror_mode": {
    "name": "ipython",
    "version": 3
   },
   "file_extension": ".py",
   "mimetype": "text/x-python",
   "name": "python",
   "nbconvert_exporter": "python",
   "pygments_lexer": "ipython3",
   "version": "3.11.5"
  }
 },
 "nbformat": 4,
 "nbformat_minor": 5
}
