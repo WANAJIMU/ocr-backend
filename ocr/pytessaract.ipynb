{
 "cells": [
  {
   "cell_type": "code",
   "execution_count": 7,
   "id": "de375da6",
   "metadata": {},
   "outputs": [],
   "source": [
    "# imports\n",
    "import pytesseract\n",
    "from PIL import Image"
   ]
  },
  {
   "cell_type": "code",
   "execution_count": 13,
   "id": "31d888a6",
   "metadata": {},
   "outputs": [],
   "source": [
    "# image files loading\n",
    "img_file = \"data/loan1.jpg\"\n",
    "no_noise = \"temp/no_noise1.jpg\"\n",
    "bw = \"temp/bw_image1.jpg\""
   ]
  },
  {
   "cell_type": "code",
   "execution_count": 14,
   "id": "fb5d806f",
   "metadata": {},
   "outputs": [],
   "source": [
    "# create an image in memory\n",
    "img = Image.open(img_file)\n",
    "img_no_noise = Image.open(no_noise)\n",
    "img_bw = Image.open(bw)"
   ]
  },
  {
   "cell_type": "code",
   "execution_count": 15,
   "id": "19c3501c",
   "metadata": {},
   "outputs": [],
   "source": [
    "# creating an OCR result\n",
    "ocr_result = pytesseract.image_to_string(img)\n",
    "ocr_result_no_noise = pytesseract.image_to_string(img_no_noise)\n",
    "ocr_result_bw = pytesseract.image_to_string(img_bw)"
   ]
  },
  {
   "cell_type": "code",
   "execution_count": 11,
   "id": "4a320321",
   "metadata": {},
   "outputs": [
    {
     "name": "stdout",
     "output_type": "stream",
     "text": [
      "Applicant’s photo IBANK|\n",
      "\n",
      "‘The hank that lierens\n",
      "\n",
      "Please complete this application form in CAPITAL LETTERS.\n",
      "\n",
      "If you do not understand any of the sections in this document, please feel free to seek clarification from CRDB Bank\n",
      "Responsible CRDB Bank Official.\n",
      "\n",
      "Please attach: ID card (e.g National ID, Voters reg. No, Driving license, Passport, Ward ID, Others), Three Recent Salary\n",
      "slips, Two Recent Photographs, Employment Contract, Introduction letter, Passport (if any), Valuation report (if security\n",
      "is landed property), Working and Residence permit (if non citizen) and Others as may be advised by Bank official.\n",
      "\n",
      "PARTCULARS|\n",
      "\n",
      "Title: Mr/ Mrs/ Hon/ Dr/ Professor/ Others (tick whichever applicable)\n",
      "Name Surname: First Name: Middle Name:\n",
      "Gender Marital Status:\n",
      "(Tick) Male: Female: Married: Single: Widow: Widower:\n",
      "\n",
      "Tanzanian Date of Birth: ........ jeer\n",
      "Nationality If Non Tanzanian:\n",
      "\n",
      "Non Tanzanian Residence Permit No: ..................:00665\n",
      "\n",
      "Nationality: ............... Work Reratit Not cccrsseanzenssernnssse\n",
      "ID ID Type: (e.g National ID,)\n",
      "\n",
      "Occupation:\n",
      "\n",
      "TD Type? vss ccsssccccercrssvsece\n",
      "\n",
      "TDLNO?. our roorsserrnenecemeninese\n",
      "Borrower’s Postal Address: Telephone: E-mail address:\n",
      "Address Mobile: Work: Home: Social Network: (face book, twitter, u-tube, etc)\n",
      "Residence City: Town: District:\n",
      "Physical Ward: Street: House No:\n",
      "Address\n",
      "Spouse Surname: First Name: Middle Name:\n",
      "Details\n",
      "\n",
      "Nationality: (7fnon Passport No: Mobile:\n",
      "\n",
      "Occupation:\n",
      "Tancaniaay) Postal Address:\n",
      "Name of Employer:\n",
      "\n",
      "Next of Kin Surname: First Name: Middle Name:\n",
      "\n",
      "Postal Address: Mobile: E-mail address:\n",
      "\n",
      "Home: Social Network:\n",
      "\n",
      "\n"
     ]
    }
   ],
   "source": [
    "print(ocr_result)"
   ]
  },
  {
   "cell_type": "code",
   "execution_count": 12,
   "id": "70bb8d50",
   "metadata": {},
   "outputs": [
    {
     "name": "stdout",
     "output_type": "stream",
     "text": [
      "Applicant’s photo\n",
      "\n",
      "PART A: PERSONAL LOAN APPLICATION FORM\n",
      "\n",
      "Please complete ths application form in CAPITAL LETTERS\n",
      "\n",
      "If you do not understand any of the secuons in this document, please feel free to seek clarification from CRDB Bank\n",
      "Responsible CRDB Bank Official\n",
      "Please attach: ID card (c.g, Nanonal ID, Voters reg No, Driving hcense, Passport, Ward ID, Others), Three Recent Salary\n",
      "shps, Two Recent Photographs, Employment Contract, Introduction letter, Passport (f any}, Valuation report Af security\n",
      "ts landed property), Working and Residence permit (if non citizen) and Others as may be advised by Bank official.\n",
      "\n",
      "ROWER\n",
      "\n",
      "‘Ss PERSC -PARTCULARS\n",
      "\n",
      "Tide: Mr/ Mrs/ Hon/ Dr/ Professor/ Others (t1ck whichever applicable)\n",
      "Name Sumame: First Name: Middle Name:\n",
      "Gender Marital Status\n",
      "(Tick) Male: Female Maried, [ Single ] Widow ] Widower LC]\n",
      "‘Tanzanian Date of Birth: |...)\n",
      "SSCL If Non Tanzaman.\n",
      "a ae Residence Permit No: ........................\n",
      "Nationality: Work PermtUNo: ...............0-----\n",
      "ID ID Type: (c.g\n",
      "Occupation:\n",
      "ID Type 2.\n",
      "ID No ee\n",
      "Borrower's Postal Address ‘Telephone E-mail address\n",
      "Address Mobile Work Home Social Network (face book, nutter, u-tube, etc)\n",
      "Residence Cty Town Distnet\n",
      "Physical Ward Street House No\n",
      "_ Address\n",
      "Spouse Suman First Naine Middle Name\n",
      "Details\n",
      "Nahonality (ifnon Passport No Mobile\n",
      "pane Occupation\n",
      "t\n",
      "ey Postal Address .\n",
      "Name of Employer\n",
      "\" Next of Kin Surnane First Name Middle Name\n",
      "Postal Address Mobile E-naul address\n",
      "Home Social Network\n",
      "\n",
      "\n"
     ]
    }
   ],
   "source": [
    "print(ocr_result_no_noise)"
   ]
  },
  {
   "cell_type": "code",
   "execution_count": 16,
   "id": "6c5433e7",
   "metadata": {},
   "outputs": [
    {
     "name": "stdout",
     "output_type": "stream",
     "text": [
      "Applicant’s photo\n",
      "\n",
      "i\n",
      "|\n",
      "\n",
      "The hawk thar Hemme\n",
      "\n",
      "PART A: PERSONAL LOAN APPLICATION FORM\n",
      "\n",
      "Please complete this application form in CAPITAL LETTERS.\n",
      "\n",
      "Jf you do not understand any of the sections in this document, please feel free to seek clarification from CRDB Bank\n",
      "Responsible CRDB Bank Official.\n",
      "\n",
      "Please attach: ID card (e.g National ID, Voters reg. No, Driving license, Passport, Ward ID, Others), Three Recent Salary\n",
      "slips, Two Recent Photographs, Employment Contract, Introduction letter, Passport (if any), Valuation report (if security\n",
      "is landed property), Working and Residence permit (if non citizen) and Others as may be advised by Bank official.\n",
      "\n",
      "IN 1: BORROWER’S PERSONAL PARTCULARS|\n",
      "\n",
      "Title: Mr/ Mrs/ Hon/ Dr/ Professor/ Others (tick whichever applicable)\n",
      "Name Surname: First Name: Middle Name:\n",
      "Gender Marital Status:\n",
      "(Tick) Male: Female: Married: [ Single: Widow: Widower: |\n",
      "\n",
      "Tanzanian | Date of Birth: ........ Te\n",
      "INEUASE UA If Non Tanzanian:\n",
      "\n",
      "REE avi Residence Permit No: ................0.000006\n",
      "\n",
      "Nationality: 2.0.0.0... Work Permit No: .......0.0:cccccceeeeee\n",
      "ID ID Type: (¢.g National ID,)\n",
      "\n",
      "Occupation:\n",
      "\n",
      "ED Type: eeccsecressenee\n",
      "\n",
      "TUES ECB cenpresanonuacnmesacnnnss\n",
      "Borrower’s Postal Address: Telephone: E-mail address:\n",
      "Address Mobile: Work: Home: Social Network: (face book, twitter, u-tube, etc)\n",
      "Residence City: Town: District:\n",
      "Physical Ward: Street: House No:\n",
      "Address\n",
      "Spouse Surname: First Name: Middle Name:\n",
      "Details\n",
      "\n",
      "Nationality: (ifnon Passport No: Mobile:\n",
      "\n",
      "Occupation:\n",
      "Famzanicn) Postal Address:\n",
      "Name of Employer:\n",
      "\n",
      "Next of Kin Surname: First Name: Middle Name:\n",
      "\n",
      "Postal Address: Mobile: E-mail address:\n",
      "\n",
      "Home: Social Network:\n",
      "\n",
      "\n"
     ]
    }
   ],
   "source": [
    "print(ocr_result_bw)"
   ]
  },
  {
   "cell_type": "code",
   "execution_count": null,
   "id": "d26415be",
   "metadata": {},
   "outputs": [],
   "source": []
  }
 ],
 "metadata": {
  "kernelspec": {
   "display_name": "Python 3 (ipykernel)",
   "language": "python",
   "name": "python3"
  },
  "language_info": {
   "codemirror_mode": {
    "name": "ipython",
    "version": 3
   },
   "file_extension": ".py",
   "mimetype": "text/x-python",
   "name": "python",
   "nbconvert_exporter": "python",
   "pygments_lexer": "ipython3",
   "version": "3.11.5"
  }
 },
 "nbformat": 4,
 "nbformat_minor": 5
}
